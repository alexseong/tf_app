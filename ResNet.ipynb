{
 "cells": [
  {
   "cell_type": "code",
   "execution_count": 55,
   "metadata": {},
   "outputs": [],
   "source": [
    "import collections\n",
    "import tensorflow as tf"
   ]
  },
  {
   "cell_type": "code",
   "execution_count": 56,
   "metadata": {},
   "outputs": [],
   "source": [
    "slim = tf.contrib.slim"
   ]
  },
  {
   "cell_type": "code",
   "execution_count": 57,
   "metadata": {},
   "outputs": [],
   "source": [
    "class Block(collections.namedtuple('Block', ['scope', 'unit_fn', 'args'])):\n",
    "    'A named tuple decribing a ResNet Block'"
   ]
  },
  {
   "cell_type": "code",
   "execution_count": 58,
   "metadata": {},
   "outputs": [],
   "source": [
    "def subsample(inputs, factor, scope = None):\n",
    "    if factor == 1:\n",
    "        return inputs\n",
    "    else:\n",
    "        return slim.max_pool2d(inputs, [1,1], stride=factor, scope=scope)"
   ]
  },
  {
   "cell_type": "code",
   "execution_count": 59,
   "metadata": {},
   "outputs": [],
   "source": [
    "def conv2d_same(inputs, num_outputs, kernel_size, stride, scope=None):\n",
    "    if stride == 1:\n",
    "        return slim.conv2d(inputs, num_outputs, kernel_size, stride=1, padding='SAME', scope=scope)\n",
    "    else:\n",
    "        pad_total = kernel_size - 1\n",
    "        pad_beg = pad_total // 2\n",
    "        pad_end = pad_total - pad_beg\n",
    "        inputs = tf.pad(inputs, [[0,0], [pad_beg, pad_end], [pad_beg, pad_end], [0,0]])\n",
    "        return slim.conv2d(inputs, num_outputs, kernel_size, stride=stride, paddig='VALID', scope=scope)"
   ]
  },
  {
   "cell_type": "code",
   "execution_count": 60,
   "metadata": {},
   "outputs": [],
   "source": [
    "@slim.add_arg_scope\n",
    "def stack_blocks_dense(net, blocks, outputs_collections = None):\n",
    "    for block in blocks:\n",
    "        with tf.variable_scope(block.scope, 'block', [net]) as sc:\n",
    "            for i, unit in enumerate(block.args):\n",
    "                with tf.variable_scope('unit_%d' % (i + 1), values = [net]):\n",
    "                    unit_depth, unit_depth_bottleneck, unit_stride = unit\n",
    "                    net = block.unit_fn(net, \n",
    "                                        depth=unit_depth,\n",
    "                                        depth_bottleneck=unit_depth_bottleneck,\n",
    "                                        stride=unit_stride)\n",
    "        net = slim.utils.collect_named_outputs(outputs_collections, sc.name, net)\n",
    "    return net"
   ]
  },
  {
   "cell_type": "code",
   "execution_count": 61,
   "metadata": {},
   "outputs": [],
   "source": [
    "def resnet_arg_scope(is_training=True,\n",
    "                     weight_decay=0.0001,\n",
    "                     batch_norm_decay=0.997,\n",
    "                     batch_norm_epsilon=1e-5,\n",
    "                     batch_norm_scale=True):\n",
    "    batch_norm_params = {\n",
    "        'is_training': is_training,\n",
    "        'decay': batch_norm_decay,\n",
    "        'epsilon': batch_norm_epsilon,\n",
    "        'scale': batch_norm_scale,\n",
    "        'updates_collections': tf.GraphKeys.UPDATE_OPS,\n",
    "    }\n",
    "    \n",
    "    with slim.arg_scope(\n",
    "        [slim.conv2d],\n",
    "        weights_regularizer = slim.l2_regularizer(weight_decay),\n",
    "        weights_initializer = slim.variance_scaling_initializer(),\n",
    "        activation_fn = tf.nn.relu,\n",
    "        normalizer_fn = slim.batch_norm,\n",
    "        normalizer_params = batch_norm_params\n",
    "    ):\n",
    "        with slim.arg_scope([slim.batch_norm], **batch_norm_params):\n",
    "            with slim.arg_scope([slim.max_pool2d], padding='SAME') as arg_sc:\n",
    "                return arg_sc"
   ]
  },
  {
   "cell_type": "code",
   "execution_count": 62,
   "metadata": {},
   "outputs": [],
   "source": [
    "@slim.add_arg_scope\n",
    "def bottleneck(inputs, depth, depth_bottleneck, stride, outputs_collections=None, scope=None):\n",
    "    with tf.variable_scope(scope, 'bottlenect_v2', [inputs]) as sc:\n",
    "        depth_in = slim.utils.last_dimension(inputs.get_shape(), min_rank=4)\n",
    "        preact = slim.batch_norm(inputs, activation_fn=tf.nn.relu, scope='preact')\n",
    "        \n",
    "        if depth == depth_in:\n",
    "            shortcut = subsample(inputs, stride, 'shortcut')\n",
    "        else:\n",
    "            shortcut = slim.conv2d(preact, depth, [1,1], stride=stride, \n",
    "                                   normalizer_fn=None, activation_fn=None, scope='shortcut')\n",
    "            \n",
    "        residual = slim.conv2d(preact, depth_bottleneck, [1,1], stride=1, scope='conv1')\n",
    "        residual = conv2d_same(residual, depth_bottleneck, 3, stride, scope='conv2')\n",
    "        residual = slim.conv2d(residual, depth, [1,1], stride=1, normalizer_fn=None, \n",
    "                               activation_fn=None, scope='conv3')\n",
    "        \n",
    "        output = shortcut + residual\n",
    "        \n",
    "        return slim.utils.collect_named_outputs(outputs_collections, sc.name, output)"
   ]
  },
  {
   "cell_type": "code",
   "execution_count": 72,
   "metadata": {},
   "outputs": [],
   "source": [
    "def resnet_v2(inputs, blocks, num_classes=None, global_pool=True, include_root_block=True, reuse=None, scope=None):\n",
    "    with tf.variable_scope(scope, 'resnet_v2', [inputs], reuse=reuse) as sc:\n",
    "        end_points_collection = sc.original_name_scope + '_end_points'\n",
    "        with slim.arg_scope([slim.conv2d, bottleneck, stack_blocks_dense],\n",
    "                            outputs_collections=end_points_collection):\n",
    "            net = inputs\n",
    "            if include_root_block:\n",
    "                with slim.arg_scope([slim.conv2d], activation_fn=None, normalizer_fn=None):\n",
    "                    net = conv2d_same(net, 64, 7, stride=2, scope='conv1')\n",
    "                # https://github.com/apache/incubator-tvm/issues/3428\n",
    "                net = slim.max_pool2d(net, [3,3], stride=2, scope='pool1')\n",
    "                \n",
    "            net = stack_blocks_dense(net, blocks)\n",
    "            net = slim.batch_norm(net, activation_fn=tf.nn.relu, scope='postnorm')\n",
    "\n",
    "            if global_pool:\n",
    "                net = tf.reduce_mean(net, [1,2], name='pool5', keep_dims=True)\n",
    "            \n",
    "            if num_classes is not None:\n",
    "                net = slim.conv2d(net, num_classes, [1,1], activation_fn = None, normalizer_fn=None, scope='logits')\n",
    "                \n",
    "            end_points = slim.utils.convert_collection_to_dict(end_points_collection)\n",
    "            \n",
    "            if num_classes is not None:\n",
    "                end_points['predictions'] = slim.softmax(net, scope='predictions')\n",
    "            \n",
    "            return net, end_points"
   ]
  },
  {
   "cell_type": "code",
   "execution_count": 73,
   "metadata": {},
   "outputs": [],
   "source": [
    "def resent_v2_50(inputs, num_classes = None, global_pool=True, reuse=None, scope='resnet_v2_50'):\n",
    "    blocks = [\n",
    "        Block('block1', bottleneck, [(256, 64, 1)] * 2 + [(256, 64, 2)]),\n",
    "        Block('block2', bottleneck, [(512, 128, 1)] * 3 + [(512, 128, 2)]),\n",
    "        Block('block3', bottleneck, [(1024, 256, 1)] * 5 + [(1024, 256, 2)]),\n",
    "        Block('block4', bottleneck, [(2048, 512, 1)] * 3)         \n",
    "    ]\n",
    "              \n",
    "    return resnet_v2(inputs, blocks, num_classes, global_pool, include_root_block=True, reuse=reuse, scope=scope) "
   ]
  },
  {
   "cell_type": "code",
   "execution_count": 74,
   "metadata": {},
   "outputs": [],
   "source": [
    "def resent_v2_101(inputs, num_classes = None, global_pool=True, reuse=None, scope='resnet_v2_101'):\n",
    "    blocks = [\n",
    "        Block('block1', bottleneck, [(256, 64, 1)] * 2 + [(256, 64, 2)]),\n",
    "        Block('block2', bottleneck, [(512, 128, 1)] * 3 + [(512, 128, 2)]),\n",
    "        Block('block3', bottleneck, [(1024, 256, 1)] * 22 + [(1024, 256, 2)]),\n",
    "        Block('block4', bottleneck, [(2048, 512, 1)] * 3)         \n",
    "    ]\n",
    "              \n",
    "    return resnet_v2(inputs, blocks, num_classes, global_pool, include_root_block=True, reuse=reuse, scope=scope) "
   ]
  },
  {
   "cell_type": "code",
   "execution_count": 75,
   "metadata": {},
   "outputs": [],
   "source": [
    "def resent_v2_152(inputs, num_classes = None, global_pool=True, reuse=None, scope='resnet_v2_152'):\n",
    "    blocks = [\n",
    "        Block('block1', bottleneck, [(256, 64, 1)] * 2 + [(256, 64, 2)]),\n",
    "        Block('block2', bottleneck, [(512, 128, 1)] * 7 + [(512, 128, 2)]),\n",
    "        Block('block3', bottleneck, [(1024, 256, 1)] * 35 + [(1024, 256, 2)]),\n",
    "        Block('block4', bottleneck, [(2048, 512, 1)] * 3)         \n",
    "    ]\n",
    "              \n",
    "    return resnet_v2(inputs, blocks, num_classes, global_pool, include_root_block=True, reuse=reuse, scope=scope) "
   ]
  },
  {
   "cell_type": "code",
   "execution_count": 76,
   "metadata": {},
   "outputs": [],
   "source": [
    "def resent_v2_200(inputs, num_classes = None, global_pool=True, reuse=None, scope='resnet_v2_200'):\n",
    "    blocks = [\n",
    "        Block('block1', bottleneck, [(256, 64, 1)] * 2 + [(256, 64, 2)]),\n",
    "        Block('block2', bottleneck, [(512, 128, 1)] * 23 + [(512, 128, 2)]),\n",
    "        Block('block3', bottleneck, [(1024, 256, 1)] * 35 + [(1024, 256, 2)]),\n",
    "        Block('block4', bottleneck, [(2048, 512, 1)] * 3)         \n",
    "    ]\n",
    "              \n",
    "    return resnet_v2(inputs, blocks, num_classes, global_pool, include_root_block=True, reuse=reuse, scope=scope) "
   ]
  },
  {
   "cell_type": "code",
   "execution_count": 77,
   "metadata": {},
   "outputs": [],
   "source": [
    "def time_tensorflow_run(session, target, infor_string):\n",
    "    num_steps_burn_in = 10\n",
    "    total_duration =0.0\n",
    "    total_duration_squared = 0.0\n",
    "\n",
    "    for i in range(num_batches + num_steps_burn_in):\n",
    "        start_time = time.time()\n",
    "        _ = session.run(target)\n",
    "        duration = time.time() - start_time\n",
    "\n",
    "        if i >= num_steps_burn_in:\n",
    "            if not i % 10:\n",
    "                print('%s: step %d, duration = %.3f' %\n",
    "                       (datetime.now(), i - num_steps_burn_in, duration))\n",
    "            total_duration += duration\n",
    "            total_duration_squared += duration ** 2\n",
    "\n",
    "            mn = total_duration / num_batches\n",
    "            vr = total_duration_squared / num_batches - mn * mn\n",
    "            sd = math.sqrt(vr)\n",
    "\n",
    "            print('%s: %s across %d steps, %.3f +/- %.3f sec / bath' %\n",
    "                  (datetime.now(), infor_string, num_batches, mn, sd))\n"
   ]
  },
  {
   "cell_type": "code",
   "execution_count": 78,
   "metadata": {},
   "outputs": [
    {
     "ename": "TypeError",
     "evalue": "convolution2d() got an unexpected keyword argument 'paddig'",
     "output_type": "error",
     "traceback": [
      "\u001b[0;31m---------------------------------------------------------------------------\u001b[0m",
      "\u001b[0;31mTypeError\u001b[0m                                 Traceback (most recent call last)",
      "\u001b[0;32m<ipython-input-78-029eaaed8bf6>\u001b[0m in \u001b[0;36m<module>\u001b[0;34m()\u001b[0m\n\u001b[1;32m      3\u001b[0m \u001b[0minputs\u001b[0m \u001b[0;34m=\u001b[0m \u001b[0mtf\u001b[0m\u001b[0;34m.\u001b[0m\u001b[0mrandom_uniform\u001b[0m\u001b[0;34m(\u001b[0m\u001b[0;34m(\u001b[0m\u001b[0mbatch_size\u001b[0m\u001b[0;34m,\u001b[0m \u001b[0mheight\u001b[0m\u001b[0;34m,\u001b[0m \u001b[0mwidth\u001b[0m\u001b[0;34m,\u001b[0m\u001b[0;36m3\u001b[0m\u001b[0;34m)\u001b[0m\u001b[0;34m)\u001b[0m\u001b[0;34m\u001b[0m\u001b[0m\n\u001b[1;32m      4\u001b[0m \u001b[0;32mwith\u001b[0m \u001b[0mslim\u001b[0m\u001b[0;34m.\u001b[0m\u001b[0marg_scope\u001b[0m\u001b[0;34m(\u001b[0m\u001b[0mresnet_arg_scope\u001b[0m\u001b[0;34m(\u001b[0m\u001b[0mis_training\u001b[0m\u001b[0;34m=\u001b[0m\u001b[0;32mFalse\u001b[0m\u001b[0;34m)\u001b[0m\u001b[0;34m)\u001b[0m\u001b[0;34m:\u001b[0m\u001b[0;34m\u001b[0m\u001b[0m\n\u001b[0;32m----> 5\u001b[0;31m     \u001b[0mnet\u001b[0m\u001b[0;34m,\u001b[0m \u001b[0mend_points\u001b[0m \u001b[0;34m=\u001b[0m \u001b[0mresent_v2_152\u001b[0m\u001b[0;34m(\u001b[0m\u001b[0minputs\u001b[0m\u001b[0;34m,\u001b[0m \u001b[0;36m1000\u001b[0m\u001b[0;34m)\u001b[0m\u001b[0;34m\u001b[0m\u001b[0m\n\u001b[0m\u001b[1;32m      6\u001b[0m \u001b[0;34m\u001b[0m\u001b[0m\n\u001b[1;32m      7\u001b[0m \u001b[0minit\u001b[0m \u001b[0;34m=\u001b[0m \u001b[0mtf\u001b[0m\u001b[0;34m.\u001b[0m\u001b[0mglobal_variables_initializer\u001b[0m\u001b[0;34m(\u001b[0m\u001b[0;34m)\u001b[0m\u001b[0;34m\u001b[0m\u001b[0m\n",
      "\u001b[0;32m<ipython-input-75-c8ece6dea454>\u001b[0m in \u001b[0;36mresent_v2_152\u001b[0;34m(inputs, num_classes, global_pool, reuse, scope)\u001b[0m\n\u001b[1;32m      7\u001b[0m     ]\n\u001b[1;32m      8\u001b[0m \u001b[0;34m\u001b[0m\u001b[0m\n\u001b[0;32m----> 9\u001b[0;31m     \u001b[0;32mreturn\u001b[0m \u001b[0mresnet_v2\u001b[0m\u001b[0;34m(\u001b[0m\u001b[0minputs\u001b[0m\u001b[0;34m,\u001b[0m \u001b[0mblocks\u001b[0m\u001b[0;34m,\u001b[0m \u001b[0mnum_classes\u001b[0m\u001b[0;34m,\u001b[0m \u001b[0mglobal_pool\u001b[0m\u001b[0;34m,\u001b[0m \u001b[0minclude_root_block\u001b[0m\u001b[0;34m=\u001b[0m\u001b[0;32mTrue\u001b[0m\u001b[0;34m,\u001b[0m \u001b[0mreuse\u001b[0m\u001b[0;34m=\u001b[0m\u001b[0mreuse\u001b[0m\u001b[0;34m,\u001b[0m \u001b[0mscope\u001b[0m\u001b[0;34m=\u001b[0m\u001b[0mscope\u001b[0m\u001b[0;34m)\u001b[0m\u001b[0;34m\u001b[0m\u001b[0m\n\u001b[0m",
      "\u001b[0;32m<ipython-input-72-05bf812e9155>\u001b[0m in \u001b[0;36mresnet_v2\u001b[0;34m(inputs, blocks, num_classes, global_pool, include_root_block, reuse, scope)\u001b[0m\n\u001b[1;32m      7\u001b[0m             \u001b[0;32mif\u001b[0m \u001b[0minclude_root_block\u001b[0m\u001b[0;34m:\u001b[0m\u001b[0;34m\u001b[0m\u001b[0m\n\u001b[1;32m      8\u001b[0m                 \u001b[0;32mwith\u001b[0m \u001b[0mslim\u001b[0m\u001b[0;34m.\u001b[0m\u001b[0marg_scope\u001b[0m\u001b[0;34m(\u001b[0m\u001b[0;34m[\u001b[0m\u001b[0mslim\u001b[0m\u001b[0;34m.\u001b[0m\u001b[0mconv2d\u001b[0m\u001b[0;34m]\u001b[0m\u001b[0;34m,\u001b[0m \u001b[0mactivation_fn\u001b[0m\u001b[0;34m=\u001b[0m\u001b[0;32mNone\u001b[0m\u001b[0;34m,\u001b[0m \u001b[0mnormalizer_fn\u001b[0m\u001b[0;34m=\u001b[0m\u001b[0;32mNone\u001b[0m\u001b[0;34m)\u001b[0m\u001b[0;34m:\u001b[0m\u001b[0;34m\u001b[0m\u001b[0m\n\u001b[0;32m----> 9\u001b[0;31m                     \u001b[0mnet\u001b[0m \u001b[0;34m=\u001b[0m \u001b[0mconv2d_same\u001b[0m\u001b[0;34m(\u001b[0m\u001b[0mnet\u001b[0m\u001b[0;34m,\u001b[0m \u001b[0;36m64\u001b[0m\u001b[0;34m,\u001b[0m \u001b[0;36m7\u001b[0m\u001b[0;34m,\u001b[0m \u001b[0mstride\u001b[0m\u001b[0;34m=\u001b[0m\u001b[0;36m2\u001b[0m\u001b[0;34m,\u001b[0m \u001b[0mscope\u001b[0m\u001b[0;34m=\u001b[0m\u001b[0;34m'conv1'\u001b[0m\u001b[0;34m)\u001b[0m\u001b[0;34m\u001b[0m\u001b[0m\n\u001b[0m\u001b[1;32m     10\u001b[0m                 \u001b[0;31m# https://github.com/apache/incubator-tvm/issues/3428\u001b[0m\u001b[0;34m\u001b[0m\u001b[0;34m\u001b[0m\u001b[0m\n\u001b[1;32m     11\u001b[0m                 \u001b[0mnet\u001b[0m \u001b[0;34m=\u001b[0m \u001b[0mslim\u001b[0m\u001b[0;34m.\u001b[0m\u001b[0mmax_pool2d\u001b[0m\u001b[0;34m(\u001b[0m\u001b[0mnet\u001b[0m\u001b[0;34m,\u001b[0m \u001b[0;34m[\u001b[0m\u001b[0;36m3\u001b[0m\u001b[0;34m,\u001b[0m\u001b[0;36m3\u001b[0m\u001b[0;34m]\u001b[0m\u001b[0;34m,\u001b[0m \u001b[0mstride\u001b[0m\u001b[0;34m=\u001b[0m\u001b[0;36m2\u001b[0m\u001b[0;34m,\u001b[0m \u001b[0mscope\u001b[0m\u001b[0;34m=\u001b[0m\u001b[0;34m'pool1'\u001b[0m\u001b[0;34m)\u001b[0m\u001b[0;34m\u001b[0m\u001b[0m\n",
      "\u001b[0;32m<ipython-input-59-f0900c97451a>\u001b[0m in \u001b[0;36mconv2d_same\u001b[0;34m(inputs, num_outputs, kernel_size, stride, scope)\u001b[0m\n\u001b[1;32m      7\u001b[0m         \u001b[0mpad_end\u001b[0m \u001b[0;34m=\u001b[0m \u001b[0mpad_total\u001b[0m \u001b[0;34m-\u001b[0m \u001b[0mpad_beg\u001b[0m\u001b[0;34m\u001b[0m\u001b[0m\n\u001b[1;32m      8\u001b[0m         \u001b[0minputs\u001b[0m \u001b[0;34m=\u001b[0m \u001b[0mtf\u001b[0m\u001b[0;34m.\u001b[0m\u001b[0mpad\u001b[0m\u001b[0;34m(\u001b[0m\u001b[0minputs\u001b[0m\u001b[0;34m,\u001b[0m \u001b[0;34m[\u001b[0m\u001b[0;34m[\u001b[0m\u001b[0;36m0\u001b[0m\u001b[0;34m,\u001b[0m\u001b[0;36m0\u001b[0m\u001b[0;34m]\u001b[0m\u001b[0;34m,\u001b[0m \u001b[0;34m[\u001b[0m\u001b[0mpad_beg\u001b[0m\u001b[0;34m,\u001b[0m \u001b[0mpad_end\u001b[0m\u001b[0;34m]\u001b[0m\u001b[0;34m,\u001b[0m \u001b[0;34m[\u001b[0m\u001b[0mpad_beg\u001b[0m\u001b[0;34m,\u001b[0m \u001b[0mpad_end\u001b[0m\u001b[0;34m]\u001b[0m\u001b[0;34m,\u001b[0m \u001b[0;34m[\u001b[0m\u001b[0;36m0\u001b[0m\u001b[0;34m,\u001b[0m\u001b[0;36m0\u001b[0m\u001b[0;34m]\u001b[0m\u001b[0;34m]\u001b[0m\u001b[0;34m)\u001b[0m\u001b[0;34m\u001b[0m\u001b[0m\n\u001b[0;32m----> 9\u001b[0;31m         \u001b[0;32mreturn\u001b[0m \u001b[0mslim\u001b[0m\u001b[0;34m.\u001b[0m\u001b[0mconv2d\u001b[0m\u001b[0;34m(\u001b[0m\u001b[0minputs\u001b[0m\u001b[0;34m,\u001b[0m \u001b[0mnum_outputs\u001b[0m\u001b[0;34m,\u001b[0m \u001b[0mkernel_size\u001b[0m\u001b[0;34m,\u001b[0m \u001b[0mstride\u001b[0m\u001b[0;34m=\u001b[0m\u001b[0mstride\u001b[0m\u001b[0;34m,\u001b[0m \u001b[0mpaddig\u001b[0m\u001b[0;34m=\u001b[0m\u001b[0;34m'VALID'\u001b[0m\u001b[0;34m,\u001b[0m \u001b[0mscope\u001b[0m\u001b[0;34m=\u001b[0m\u001b[0mscope\u001b[0m\u001b[0;34m)\u001b[0m\u001b[0;34m\u001b[0m\u001b[0m\n\u001b[0m",
      "\u001b[0;32m~/anaconda3/envs/tensorflow_p36/lib/python3.6/site-packages/tensorflow_core/contrib/framework/python/ops/arg_scope.py\u001b[0m in \u001b[0;36mfunc_with_args\u001b[0;34m(*args, **kwargs)\u001b[0m\n\u001b[1;32m    180\u001b[0m       \u001b[0mcurrent_args\u001b[0m \u001b[0;34m=\u001b[0m \u001b[0mcurrent_scope\u001b[0m\u001b[0;34m[\u001b[0m\u001b[0mkey_func\u001b[0m\u001b[0;34m]\u001b[0m\u001b[0;34m.\u001b[0m\u001b[0mcopy\u001b[0m\u001b[0;34m(\u001b[0m\u001b[0;34m)\u001b[0m\u001b[0;34m\u001b[0m\u001b[0m\n\u001b[1;32m    181\u001b[0m       \u001b[0mcurrent_args\u001b[0m\u001b[0;34m.\u001b[0m\u001b[0mupdate\u001b[0m\u001b[0;34m(\u001b[0m\u001b[0mkwargs\u001b[0m\u001b[0;34m)\u001b[0m\u001b[0;34m\u001b[0m\u001b[0m\n\u001b[0;32m--> 182\u001b[0;31m     \u001b[0;32mreturn\u001b[0m \u001b[0mfunc\u001b[0m\u001b[0;34m(\u001b[0m\u001b[0;34m*\u001b[0m\u001b[0margs\u001b[0m\u001b[0;34m,\u001b[0m \u001b[0;34m**\u001b[0m\u001b[0mcurrent_args\u001b[0m\u001b[0;34m)\u001b[0m\u001b[0;34m\u001b[0m\u001b[0m\n\u001b[0m\u001b[1;32m    183\u001b[0m \u001b[0;34m\u001b[0m\u001b[0m\n\u001b[1;32m    184\u001b[0m   \u001b[0m_add_op\u001b[0m\u001b[0;34m(\u001b[0m\u001b[0mfunc\u001b[0m\u001b[0;34m)\u001b[0m\u001b[0;34m\u001b[0m\u001b[0m\n",
      "\u001b[0;31mTypeError\u001b[0m: convolution2d() got an unexpected keyword argument 'paddig'"
     ]
    }
   ],
   "source": [
    "batch_size = 32\n",
    "height, width = 224, 224\n",
    "inputs = tf.random_uniform((batch_size, height, width,3))\n",
    "with slim.arg_scope(resnet_arg_scope(is_training=False)):\n",
    "    net, end_points = resent_v2_152(inputs, 1000)\n",
    "    \n",
    "init = tf.global_variables_initializer()\n",
    "sess = tf.Session()\n",
    "sess.run(init)\n",
    "\n",
    "num_batches = 100\n",
    "\n",
    "time_tensorflow_run(sess, net, \"Forward\")"
   ]
  },
  {
   "cell_type": "code",
   "execution_count": null,
   "metadata": {},
   "outputs": [],
   "source": []
  },
  {
   "cell_type": "code",
   "execution_count": null,
   "metadata": {},
   "outputs": [],
   "source": []
  },
  {
   "cell_type": "code",
   "execution_count": 7,
   "metadata": {},
   "outputs": [],
   "source": [
    "def smart_divide(func):\n",
    "   def inner(a,b):\n",
    "      print(\"I am going to divide\",a,\"and\",b)\n",
    "      if b == 0:\n",
    "         print(\"Whoops! cannot divide\")\n",
    "         return\n",
    "\n",
    "      return func(a,b)\n",
    "   return inner"
   ]
  },
  {
   "cell_type": "code",
   "execution_count": 8,
   "metadata": {},
   "outputs": [],
   "source": [
    "@smart_divide\n",
    "def devide(a, b):\n",
    "    return a / b"
   ]
  },
  {
   "cell_type": "code",
   "execution_count": 10,
   "metadata": {},
   "outputs": [
    {
     "name": "stdout",
     "output_type": "stream",
     "text": [
      "I am going to divide 2 and 0\n",
      "Whoops! cannot divide\n"
     ]
    }
   ],
   "source": [
    "devide(2, 0)"
   ]
  },
  {
   "cell_type": "code",
   "execution_count": 45,
   "metadata": {},
   "outputs": [
    {
     "data": {
      "text/plain": [
       "'1.15.2'"
      ]
     },
     "execution_count": 45,
     "metadata": {},
     "output_type": "execute_result"
    }
   ],
   "source": [
    "tf.__version__"
   ]
  },
  {
   "cell_type": "code",
   "execution_count": null,
   "metadata": {},
   "outputs": [],
   "source": []
  }
 ],
 "metadata": {
  "kernelspec": {
   "display_name": "Environment (conda_tensorflow_p36)",
   "language": "python",
   "name": "conda_tensorflow_p36"
  },
  "language_info": {
   "codemirror_mode": {
    "name": "ipython",
    "version": 3
   },
   "file_extension": ".py",
   "mimetype": "text/x-python",
   "name": "python",
   "nbconvert_exporter": "python",
   "pygments_lexer": "ipython3",
   "version": "3.6.5"
  }
 },
 "nbformat": 4,
 "nbformat_minor": 2
}
